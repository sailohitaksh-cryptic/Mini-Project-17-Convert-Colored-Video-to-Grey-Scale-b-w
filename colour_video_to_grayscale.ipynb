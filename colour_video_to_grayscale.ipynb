{
  "nbformat": 4,
  "nbformat_minor": 0,
  "metadata": {
    "colab": {
      "provenance": [],
      "authorship_tag": "ABX9TyMgGKgt8IvleCuBq9b7MIE2",
      "include_colab_link": true
    },
    "kernelspec": {
      "name": "python3",
      "display_name": "Python 3"
    },
    "language_info": {
      "name": "python"
    }
  },
  "cells": [
    {
      "cell_type": "markdown",
      "metadata": {
        "id": "view-in-github",
        "colab_type": "text"
      },
      "source": [
        "<a href=\"https://colab.research.google.com/github/sailohitaksh-cryptic/Mini-Project-17-Convert-Colored-Video-to-Grey-Scale-b-w/blob/main/colour_video_to_grayscale.ipynb\" target=\"_parent\"><img src=\"https://colab.research.google.com/assets/colab-badge.svg\" alt=\"Open In Colab\"/></a>"
      ]
    },
    {
      "cell_type": "code",
      "execution_count": 1,
      "metadata": {
        "id": "ZGDY4Dzr15mv"
      },
      "outputs": [],
      "source": [
        "import cv2\n",
        "import os"
      ]
    },
    {
      "cell_type": "code",
      "source": [
        "video_path = \"/content/test.mp4\"\n",
        "cap = cv2.VideoCapture(video_path)\n",
        "output_path = \"/content/output.mp4\""
      ],
      "metadata": {
        "id": "yLqMfzkY2Lj6"
      },
      "execution_count": 2,
      "outputs": []
    },
    {
      "cell_type": "code",
      "source": [
        "fourcc = cv2.VideoWriter_fourcc(*\"mp4v\")  # Specify the codec for the output video\n",
        "fps = cap.get(cv2.CAP_PROP_FPS)  # Get the frames per second of the input video\n",
        "frame_size = (int(cap.get(cv2.CAP_PROP_FRAME_WIDTH)), int(cap.get(cv2.CAP_PROP_FRAME_HEIGHT)))  # Get the frame size\n",
        "writer = cv2.VideoWriter(output_path, fourcc, fps, frame_size, False)"
      ],
      "metadata": {
        "id": "OUTMdPgK2NnR"
      },
      "execution_count": 3,
      "outputs": []
    },
    {
      "cell_type": "code",
      "source": [
        "while True:\n",
        "    ret, frame = cap.read()  # Read the next frame\n",
        "    if not ret:\n",
        "        break  # Break the loop if there are no more frames\n",
        "\n",
        "    gray_frame = cv2.cvtColor(frame, cv2.COLOR_BGR2GRAY)  # Convert the frame to grayscale\n",
        "    writer.write(gray_frame)  # Write the grayscale frame to the output video\n",
        "\n",
        "    #cv2.imshow('Original Video', frame)  # Display the original video\n",
        "    #cv2.imshow('Grayscale Video', gray_frame)  # Display the grayscale video\n",
        "\n",
        "    if cv2.waitKey(1) & 0xFF == ord('q'):\n",
        "        break  # Break the loop if 'q' key is pressed\n",
        "\n",
        "cv2.destroyAllWindows()  # Close all the windows"
      ],
      "metadata": {
        "id": "QLkH6_WO2RxP"
      },
      "execution_count": 4,
      "outputs": []
    },
    {
      "cell_type": "code",
      "source": [
        "cap.release()\n",
        "writer.release()"
      ],
      "metadata": {
        "id": "YKMHtWgq2rtP"
      },
      "execution_count": 5,
      "outputs": []
    },
    {
      "cell_type": "code",
      "source": [],
      "metadata": {
        "id": "wknlHPHF7CX_"
      },
      "execution_count": null,
      "outputs": []
    }
  ]
}